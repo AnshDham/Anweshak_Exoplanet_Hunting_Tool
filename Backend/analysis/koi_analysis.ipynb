{
 "cells": [
  {
   "cell_type": "markdown",
   "id": "a5def962",
   "metadata": {},
   "source": [
    "## Setup files to run"
   ]
  },
  {
   "cell_type": "code",
   "execution_count": 1,
   "id": "b6333716",
   "metadata": {},
   "outputs": [],
   "source": [
    "import pandas as pd\n",
    "import sys\n",
    "import os\n",
    "import yaml\n",
    "config_path = os.path.join(\"..\", \"config.yaml\")\n",
    "with open(config_path, 'r') as file:\n",
    "    config = yaml.safe_load(file)\n",
    "sys.path.append(os.path.abspath(\"..\"))\n",
    "pd.set_option('display.max_columns', None)\n",
    "pd.set_option('display.max_rows', None)\n"
   ]
  },
  {
   "cell_type": "markdown",
   "id": "cffee8d2",
   "metadata": {},
   "source": [
    "## Importing requirements"
   ]
  },
  {
   "cell_type": "code",
   "execution_count": 2,
   "id": "374c580f",
   "metadata": {},
   "outputs": [],
   "source": [
    "from src.load_data import DataLoaderFactory\n",
    "from src.handelling_missing_values import Impute\n",
    "from analyse_src.missing_val_analysis import MissingValueAnalysisFactory\n",
    "from src.preprocessing import PreprocessingFactory\n",
    "from src.data_splitter import DataSpliter , SimpleTrainTestSplit\n",
    "from src.model_building import ModelFactory\n",
    "from src.model_evaluation import ModelEvaluationFactory\n",
    "from analyse_src.conf import ConfusionAndReportVisualizer"
   ]
  },
  {
   "cell_type": "code",
   "execution_count": 3,
   "id": "3ebf330b",
   "metadata": {},
   "outputs": [
    {
     "name": "stderr",
     "output_type": "stream",
     "text": [
      "2025-10-04 00:11:30,445 -INFO - Loading data from C:\\Users\\rk186\\OneDrive\\Desktop\\NASA_challenge_2025\\data\\cumulative_2025.09.17_04.54.35.csv\n"
     ]
    }
   ],
   "source": [
    "koi_df=DataLoaderFactory().get_loader(\".csv\").load(r\"C:\\Users\\rk186\\OneDrive\\Desktop\\NASA_challenge_2025\\data\\cumulative_2025.09.17_04.54.35.csv\")"
   ]
  },
  {
   "cell_type": "code",
   "execution_count": 4,
   "id": "42379037",
   "metadata": {},
   "outputs": [
    {
     "data": {
      "text/html": [
       "<div>\n",
       "<style scoped>\n",
       "    .dataframe tbody tr th:only-of-type {\n",
       "        vertical-align: middle;\n",
       "    }\n",
       "\n",
       "    .dataframe tbody tr th {\n",
       "        vertical-align: top;\n",
       "    }\n",
       "\n",
       "    .dataframe thead th {\n",
       "        text-align: right;\n",
       "    }\n",
       "</style>\n",
       "<table border=\"1\" class=\"dataframe\">\n",
       "  <thead>\n",
       "    <tr style=\"text-align: right;\">\n",
       "      <th></th>\n",
       "      <th>kepid</th>\n",
       "      <th>kepoi_name</th>\n",
       "      <th>kepler_name</th>\n",
       "      <th>koi_disposition</th>\n",
       "      <th>koi_pdisposition</th>\n",
       "      <th>koi_score</th>\n",
       "      <th>koi_fpflag_nt</th>\n",
       "      <th>koi_fpflag_ss</th>\n",
       "      <th>koi_fpflag_co</th>\n",
       "      <th>koi_fpflag_ec</th>\n",
       "      <th>koi_period</th>\n",
       "      <th>koi_period_err1</th>\n",
       "      <th>koi_period_err2</th>\n",
       "      <th>koi_time0bk</th>\n",
       "      <th>koi_time0bk_err1</th>\n",
       "      <th>koi_time0bk_err2</th>\n",
       "      <th>koi_impact</th>\n",
       "      <th>koi_impact_err1</th>\n",
       "      <th>koi_impact_err2</th>\n",
       "      <th>koi_duration</th>\n",
       "      <th>koi_duration_err1</th>\n",
       "      <th>koi_duration_err2</th>\n",
       "      <th>koi_depth</th>\n",
       "      <th>koi_depth_err1</th>\n",
       "      <th>koi_depth_err2</th>\n",
       "      <th>koi_prad</th>\n",
       "      <th>koi_prad_err1</th>\n",
       "      <th>koi_prad_err2</th>\n",
       "      <th>koi_teq</th>\n",
       "      <th>koi_teq_err1</th>\n",
       "      <th>koi_teq_err2</th>\n",
       "      <th>koi_insol</th>\n",
       "      <th>koi_insol_err1</th>\n",
       "      <th>koi_insol_err2</th>\n",
       "      <th>koi_model_snr</th>\n",
       "      <th>koi_tce_plnt_num</th>\n",
       "      <th>koi_tce_delivname</th>\n",
       "      <th>koi_steff</th>\n",
       "      <th>koi_steff_err1</th>\n",
       "      <th>koi_steff_err2</th>\n",
       "      <th>koi_slogg</th>\n",
       "      <th>koi_slogg_err1</th>\n",
       "      <th>koi_slogg_err2</th>\n",
       "      <th>koi_srad</th>\n",
       "      <th>koi_srad_err1</th>\n",
       "      <th>koi_srad_err2</th>\n",
       "      <th>ra</th>\n",
       "      <th>dec</th>\n",
       "      <th>koi_kepmag</th>\n",
       "    </tr>\n",
       "  </thead>\n",
       "  <tbody>\n",
       "    <tr>\n",
       "      <th>0</th>\n",
       "      <td>10797460</td>\n",
       "      <td>K00752.01</td>\n",
       "      <td>Kepler-227 b</td>\n",
       "      <td>CONFIRMED</td>\n",
       "      <td>CANDIDATE</td>\n",
       "      <td>1.000</td>\n",
       "      <td>0</td>\n",
       "      <td>0</td>\n",
       "      <td>0</td>\n",
       "      <td>0</td>\n",
       "      <td>9.488036</td>\n",
       "      <td>2.775000e-05</td>\n",
       "      <td>-2.775000e-05</td>\n",
       "      <td>170.538750</td>\n",
       "      <td>0.002160</td>\n",
       "      <td>-0.002160</td>\n",
       "      <td>0.146</td>\n",
       "      <td>0.318</td>\n",
       "      <td>-0.146</td>\n",
       "      <td>2.95750</td>\n",
       "      <td>0.08190</td>\n",
       "      <td>-0.08190</td>\n",
       "      <td>615.8</td>\n",
       "      <td>19.5</td>\n",
       "      <td>-19.5</td>\n",
       "      <td>2.26</td>\n",
       "      <td>0.26</td>\n",
       "      <td>-0.15</td>\n",
       "      <td>793.0</td>\n",
       "      <td>NaN</td>\n",
       "      <td>NaN</td>\n",
       "      <td>93.59</td>\n",
       "      <td>29.45</td>\n",
       "      <td>-16.65</td>\n",
       "      <td>35.8</td>\n",
       "      <td>1.0</td>\n",
       "      <td>q1_q17_dr25_tce</td>\n",
       "      <td>5455.0</td>\n",
       "      <td>81.0</td>\n",
       "      <td>-81.0</td>\n",
       "      <td>4.467</td>\n",
       "      <td>0.064</td>\n",
       "      <td>-0.096</td>\n",
       "      <td>0.927</td>\n",
       "      <td>0.105</td>\n",
       "      <td>-0.061</td>\n",
       "      <td>291.93423</td>\n",
       "      <td>48.141651</td>\n",
       "      <td>15.347</td>\n",
       "    </tr>\n",
       "    <tr>\n",
       "      <th>1</th>\n",
       "      <td>10797460</td>\n",
       "      <td>K00752.02</td>\n",
       "      <td>Kepler-227 c</td>\n",
       "      <td>CONFIRMED</td>\n",
       "      <td>CANDIDATE</td>\n",
       "      <td>0.969</td>\n",
       "      <td>0</td>\n",
       "      <td>0</td>\n",
       "      <td>0</td>\n",
       "      <td>0</td>\n",
       "      <td>54.418383</td>\n",
       "      <td>2.479000e-04</td>\n",
       "      <td>-2.479000e-04</td>\n",
       "      <td>162.513840</td>\n",
       "      <td>0.003520</td>\n",
       "      <td>-0.003520</td>\n",
       "      <td>0.586</td>\n",
       "      <td>0.059</td>\n",
       "      <td>-0.443</td>\n",
       "      <td>4.50700</td>\n",
       "      <td>0.11600</td>\n",
       "      <td>-0.11600</td>\n",
       "      <td>874.8</td>\n",
       "      <td>35.5</td>\n",
       "      <td>-35.5</td>\n",
       "      <td>2.83</td>\n",
       "      <td>0.32</td>\n",
       "      <td>-0.19</td>\n",
       "      <td>443.0</td>\n",
       "      <td>NaN</td>\n",
       "      <td>NaN</td>\n",
       "      <td>9.11</td>\n",
       "      <td>2.87</td>\n",
       "      <td>-1.62</td>\n",
       "      <td>25.8</td>\n",
       "      <td>2.0</td>\n",
       "      <td>q1_q17_dr25_tce</td>\n",
       "      <td>5455.0</td>\n",
       "      <td>81.0</td>\n",
       "      <td>-81.0</td>\n",
       "      <td>4.467</td>\n",
       "      <td>0.064</td>\n",
       "      <td>-0.096</td>\n",
       "      <td>0.927</td>\n",
       "      <td>0.105</td>\n",
       "      <td>-0.061</td>\n",
       "      <td>291.93423</td>\n",
       "      <td>48.141651</td>\n",
       "      <td>15.347</td>\n",
       "    </tr>\n",
       "    <tr>\n",
       "      <th>2</th>\n",
       "      <td>10811496</td>\n",
       "      <td>K00753.01</td>\n",
       "      <td>NaN</td>\n",
       "      <td>CANDIDATE</td>\n",
       "      <td>CANDIDATE</td>\n",
       "      <td>0.000</td>\n",
       "      <td>0</td>\n",
       "      <td>0</td>\n",
       "      <td>0</td>\n",
       "      <td>0</td>\n",
       "      <td>19.899140</td>\n",
       "      <td>1.494000e-05</td>\n",
       "      <td>-1.494000e-05</td>\n",
       "      <td>175.850252</td>\n",
       "      <td>0.000581</td>\n",
       "      <td>-0.000581</td>\n",
       "      <td>0.969</td>\n",
       "      <td>5.126</td>\n",
       "      <td>-0.077</td>\n",
       "      <td>1.78220</td>\n",
       "      <td>0.03410</td>\n",
       "      <td>-0.03410</td>\n",
       "      <td>10829.0</td>\n",
       "      <td>171.0</td>\n",
       "      <td>-171.0</td>\n",
       "      <td>14.60</td>\n",
       "      <td>3.92</td>\n",
       "      <td>-1.31</td>\n",
       "      <td>638.0</td>\n",
       "      <td>NaN</td>\n",
       "      <td>NaN</td>\n",
       "      <td>39.30</td>\n",
       "      <td>31.04</td>\n",
       "      <td>-10.49</td>\n",
       "      <td>76.3</td>\n",
       "      <td>1.0</td>\n",
       "      <td>q1_q17_dr25_tce</td>\n",
       "      <td>5853.0</td>\n",
       "      <td>158.0</td>\n",
       "      <td>-176.0</td>\n",
       "      <td>4.544</td>\n",
       "      <td>0.044</td>\n",
       "      <td>-0.176</td>\n",
       "      <td>0.868</td>\n",
       "      <td>0.233</td>\n",
       "      <td>-0.078</td>\n",
       "      <td>297.00482</td>\n",
       "      <td>48.134129</td>\n",
       "      <td>15.436</td>\n",
       "    </tr>\n",
       "    <tr>\n",
       "      <th>3</th>\n",
       "      <td>10848459</td>\n",
       "      <td>K00754.01</td>\n",
       "      <td>NaN</td>\n",
       "      <td>FALSE POSITIVE</td>\n",
       "      <td>FALSE POSITIVE</td>\n",
       "      <td>0.000</td>\n",
       "      <td>0</td>\n",
       "      <td>1</td>\n",
       "      <td>0</td>\n",
       "      <td>0</td>\n",
       "      <td>1.736952</td>\n",
       "      <td>2.630000e-07</td>\n",
       "      <td>-2.630000e-07</td>\n",
       "      <td>170.307565</td>\n",
       "      <td>0.000115</td>\n",
       "      <td>-0.000115</td>\n",
       "      <td>1.276</td>\n",
       "      <td>0.115</td>\n",
       "      <td>-0.092</td>\n",
       "      <td>2.40641</td>\n",
       "      <td>0.00537</td>\n",
       "      <td>-0.00537</td>\n",
       "      <td>8079.2</td>\n",
       "      <td>12.8</td>\n",
       "      <td>-12.8</td>\n",
       "      <td>33.46</td>\n",
       "      <td>8.50</td>\n",
       "      <td>-2.83</td>\n",
       "      <td>1395.0</td>\n",
       "      <td>NaN</td>\n",
       "      <td>NaN</td>\n",
       "      <td>891.96</td>\n",
       "      <td>668.95</td>\n",
       "      <td>-230.35</td>\n",
       "      <td>505.6</td>\n",
       "      <td>1.0</td>\n",
       "      <td>q1_q17_dr25_tce</td>\n",
       "      <td>5805.0</td>\n",
       "      <td>157.0</td>\n",
       "      <td>-174.0</td>\n",
       "      <td>4.564</td>\n",
       "      <td>0.053</td>\n",
       "      <td>-0.168</td>\n",
       "      <td>0.791</td>\n",
       "      <td>0.201</td>\n",
       "      <td>-0.067</td>\n",
       "      <td>285.53461</td>\n",
       "      <td>48.285210</td>\n",
       "      <td>15.597</td>\n",
       "    </tr>\n",
       "    <tr>\n",
       "      <th>4</th>\n",
       "      <td>10854555</td>\n",
       "      <td>K00755.01</td>\n",
       "      <td>Kepler-664 b</td>\n",
       "      <td>CONFIRMED</td>\n",
       "      <td>CANDIDATE</td>\n",
       "      <td>1.000</td>\n",
       "      <td>0</td>\n",
       "      <td>0</td>\n",
       "      <td>0</td>\n",
       "      <td>0</td>\n",
       "      <td>2.525592</td>\n",
       "      <td>3.761000e-06</td>\n",
       "      <td>-3.761000e-06</td>\n",
       "      <td>171.595550</td>\n",
       "      <td>0.001130</td>\n",
       "      <td>-0.001130</td>\n",
       "      <td>0.701</td>\n",
       "      <td>0.235</td>\n",
       "      <td>-0.478</td>\n",
       "      <td>1.65450</td>\n",
       "      <td>0.04200</td>\n",
       "      <td>-0.04200</td>\n",
       "      <td>603.3</td>\n",
       "      <td>16.9</td>\n",
       "      <td>-16.9</td>\n",
       "      <td>2.75</td>\n",
       "      <td>0.88</td>\n",
       "      <td>-0.35</td>\n",
       "      <td>1406.0</td>\n",
       "      <td>NaN</td>\n",
       "      <td>NaN</td>\n",
       "      <td>926.16</td>\n",
       "      <td>874.33</td>\n",
       "      <td>-314.24</td>\n",
       "      <td>40.9</td>\n",
       "      <td>1.0</td>\n",
       "      <td>q1_q17_dr25_tce</td>\n",
       "      <td>6031.0</td>\n",
       "      <td>169.0</td>\n",
       "      <td>-211.0</td>\n",
       "      <td>4.438</td>\n",
       "      <td>0.070</td>\n",
       "      <td>-0.210</td>\n",
       "      <td>1.046</td>\n",
       "      <td>0.334</td>\n",
       "      <td>-0.133</td>\n",
       "      <td>288.75488</td>\n",
       "      <td>48.226200</td>\n",
       "      <td>15.509</td>\n",
       "    </tr>\n",
       "  </tbody>\n",
       "</table>\n",
       "</div>"
      ],
      "text/plain": [
       "      kepid kepoi_name   kepler_name koi_disposition koi_pdisposition  \\\n",
       "0  10797460  K00752.01  Kepler-227 b       CONFIRMED        CANDIDATE   \n",
       "1  10797460  K00752.02  Kepler-227 c       CONFIRMED        CANDIDATE   \n",
       "2  10811496  K00753.01           NaN       CANDIDATE        CANDIDATE   \n",
       "3  10848459  K00754.01           NaN  FALSE POSITIVE   FALSE POSITIVE   \n",
       "4  10854555  K00755.01  Kepler-664 b       CONFIRMED        CANDIDATE   \n",
       "\n",
       "   koi_score  koi_fpflag_nt  koi_fpflag_ss  koi_fpflag_co  koi_fpflag_ec  \\\n",
       "0      1.000              0              0              0              0   \n",
       "1      0.969              0              0              0              0   \n",
       "2      0.000              0              0              0              0   \n",
       "3      0.000              0              1              0              0   \n",
       "4      1.000              0              0              0              0   \n",
       "\n",
       "   koi_period  koi_period_err1  koi_period_err2  koi_time0bk  \\\n",
       "0    9.488036     2.775000e-05    -2.775000e-05   170.538750   \n",
       "1   54.418383     2.479000e-04    -2.479000e-04   162.513840   \n",
       "2   19.899140     1.494000e-05    -1.494000e-05   175.850252   \n",
       "3    1.736952     2.630000e-07    -2.630000e-07   170.307565   \n",
       "4    2.525592     3.761000e-06    -3.761000e-06   171.595550   \n",
       "\n",
       "   koi_time0bk_err1  koi_time0bk_err2  koi_impact  koi_impact_err1  \\\n",
       "0          0.002160         -0.002160       0.146            0.318   \n",
       "1          0.003520         -0.003520       0.586            0.059   \n",
       "2          0.000581         -0.000581       0.969            5.126   \n",
       "3          0.000115         -0.000115       1.276            0.115   \n",
       "4          0.001130         -0.001130       0.701            0.235   \n",
       "\n",
       "   koi_impact_err2  koi_duration  koi_duration_err1  koi_duration_err2  \\\n",
       "0           -0.146       2.95750            0.08190           -0.08190   \n",
       "1           -0.443       4.50700            0.11600           -0.11600   \n",
       "2           -0.077       1.78220            0.03410           -0.03410   \n",
       "3           -0.092       2.40641            0.00537           -0.00537   \n",
       "4           -0.478       1.65450            0.04200           -0.04200   \n",
       "\n",
       "   koi_depth  koi_depth_err1  koi_depth_err2  koi_prad  koi_prad_err1  \\\n",
       "0      615.8            19.5           -19.5      2.26           0.26   \n",
       "1      874.8            35.5           -35.5      2.83           0.32   \n",
       "2    10829.0           171.0          -171.0     14.60           3.92   \n",
       "3     8079.2            12.8           -12.8     33.46           8.50   \n",
       "4      603.3            16.9           -16.9      2.75           0.88   \n",
       "\n",
       "   koi_prad_err2  koi_teq  koi_teq_err1  koi_teq_err2  koi_insol  \\\n",
       "0          -0.15    793.0           NaN           NaN      93.59   \n",
       "1          -0.19    443.0           NaN           NaN       9.11   \n",
       "2          -1.31    638.0           NaN           NaN      39.30   \n",
       "3          -2.83   1395.0           NaN           NaN     891.96   \n",
       "4          -0.35   1406.0           NaN           NaN     926.16   \n",
       "\n",
       "   koi_insol_err1  koi_insol_err2  koi_model_snr  koi_tce_plnt_num  \\\n",
       "0           29.45          -16.65           35.8               1.0   \n",
       "1            2.87           -1.62           25.8               2.0   \n",
       "2           31.04          -10.49           76.3               1.0   \n",
       "3          668.95         -230.35          505.6               1.0   \n",
       "4          874.33         -314.24           40.9               1.0   \n",
       "\n",
       "  koi_tce_delivname  koi_steff  koi_steff_err1  koi_steff_err2  koi_slogg  \\\n",
       "0   q1_q17_dr25_tce     5455.0            81.0           -81.0      4.467   \n",
       "1   q1_q17_dr25_tce     5455.0            81.0           -81.0      4.467   \n",
       "2   q1_q17_dr25_tce     5853.0           158.0          -176.0      4.544   \n",
       "3   q1_q17_dr25_tce     5805.0           157.0          -174.0      4.564   \n",
       "4   q1_q17_dr25_tce     6031.0           169.0          -211.0      4.438   \n",
       "\n",
       "   koi_slogg_err1  koi_slogg_err2  koi_srad  koi_srad_err1  koi_srad_err2  \\\n",
       "0           0.064          -0.096     0.927          0.105         -0.061   \n",
       "1           0.064          -0.096     0.927          0.105         -0.061   \n",
       "2           0.044          -0.176     0.868          0.233         -0.078   \n",
       "3           0.053          -0.168     0.791          0.201         -0.067   \n",
       "4           0.070          -0.210     1.046          0.334         -0.133   \n",
       "\n",
       "          ra        dec  koi_kepmag  \n",
       "0  291.93423  48.141651      15.347  \n",
       "1  291.93423  48.141651      15.347  \n",
       "2  297.00482  48.134129      15.436  \n",
       "3  285.53461  48.285210      15.597  \n",
       "4  288.75488  48.226200      15.509  "
      ]
     },
     "execution_count": 4,
     "metadata": {},
     "output_type": "execute_result"
    }
   ],
   "source": [
    "koi_df.head()"
   ]
  },
  {
   "cell_type": "code",
   "execution_count": 5,
   "id": "02bdd4b5",
   "metadata": {},
   "outputs": [
    {
     "name": "stdout",
     "output_type": "stream",
     "text": [
      "Shape of the dataframe before handelling missing values: (9564, 49)\n"
     ]
    }
   ],
   "source": [
    "print(f\"Shape of the dataframe before handelling missing values: {koi_df.shape}\")"
   ]
  },
  {
   "cell_type": "markdown",
   "id": "55e89038",
   "metadata": {},
   "source": [
    "## **Handelling NAN Values and duplicate**"
   ]
  },
  {
   "cell_type": "code",
   "execution_count": 6,
   "id": "dad94f50",
   "metadata": {},
   "outputs": [
    {
     "name": "stderr",
     "output_type": "stream",
     "text": [
      "2025-10-04 00:11:30,576 -INFO - Missing Value Report:\n",
      "           Column  Missing Values  Percentage\n",
      "     koi_teq_err1            9564  100.000000\n",
      "     koi_teq_err2            9564  100.000000\n",
      "      kepler_name            6817   71.277708\n",
      "        koi_score            1510   15.788373\n",
      "   koi_steff_err2             483    5.050188\n",
      "   koi_slogg_err1             468    4.893350\n",
      "   koi_slogg_err2             468    4.893350\n",
      "    koi_srad_err2             468    4.893350\n",
      "   koi_steff_err1             468    4.893350\n",
      "    koi_srad_err1             468    4.893350\n",
      "  koi_period_err2             454    4.746968\n",
      "  koi_period_err1             454    4.746968\n",
      "   koi_depth_err1             454    4.746968\n",
      "   koi_depth_err2             454    4.746968\n",
      " koi_time0bk_err1             454    4.746968\n",
      " koi_time0bk_err2             454    4.746968\n",
      "koi_duration_err2             454    4.746968\n",
      "koi_duration_err1             454    4.746968\n",
      "  koi_impact_err1             454    4.746968\n",
      "  koi_impact_err2             454    4.746968\n",
      "    koi_prad_err2             363    3.795483\n",
      "          koi_teq             363    3.795483\n",
      "         koi_prad             363    3.795483\n",
      "    koi_prad_err1             363    3.795483\n",
      "       koi_impact             363    3.795483\n",
      "        koi_depth             363    3.795483\n",
      "        koi_steff             363    3.795483\n",
      "    koi_model_snr             363    3.795483\n",
      "         koi_srad             363    3.795483\n",
      "        koi_slogg             363    3.795483\n",
      "koi_tce_delivname             346    3.617733\n",
      " koi_tce_plnt_num             346    3.617733\n",
      "   koi_insol_err1             321    3.356336\n",
      "        koi_insol             321    3.356336\n",
      "   koi_insol_err2             321    3.356336\n",
      "       koi_kepmag               1    0.010456\n",
      "2025-10-04 00:11:30,576 -INFO - Missing value analysis completed and reported.\n",
      "c:\\Users\\rk186\\OneDrive\\Desktop\\NASA_challenge_2025\\analyse_src\\missing_val_analysis.py:20: FutureWarning: \n",
      "\n",
      "Passing `palette` without assigning `hue` is deprecated and will be removed in v0.14.0. Assign the `x` variable to `hue` and set `legend=False` for the same effect.\n",
      "\n",
      "  sns.barplot(x=missing_data.index, y=missing_data.values, palette=\"viridis\")\n"
     ]
    },
    {
     "data": {
      "image/png": "[encoded data removed]",
      "text/plain": [
       "<Figure size 1000x600 with 1 Axes>"
      ]
     },
     "metadata": {},
     "output_type": "display_data"
    },
    {
     "name": "stderr",
     "output_type": "stream",
     "text": [
      "2025-10-04 00:11:31,117 -INFO - Missing value analysis completed and visualized.\n"
     ]
    }
   ],
   "source": [
    "missing_val_analysis=MissingValueAnalysisFactory().get_analyzer(\"report\").analyze(koi_df)\n",
    "missing_val_analysis_visualize=MissingValueAnalysisFactory().get_analyzer(\"visualize\").analyze(koi_df)"
   ]
  },
  {
   "cell_type": "code",
   "execution_count": 7,
   "id": "be600baf",
   "metadata": {},
   "outputs": [
    {
     "name": "stderr",
     "output_type": "stream",
     "text": [
      "2025-10-04 00:11:31,124 -INFO - Imputing missing values with mean for numerical columns and mode for categorical columns\n",
      "c:\\Users\\rk186\\OneDrive\\Desktop\\NASA_challenge_2025\\src\\handelling_missing_values.py:30: FutureWarning: A value is trying to be set on a copy of a DataFrame or Series through chained assignment using an inplace method.\n",
      "The behavior will change in pandas 3.0. This inplace method will never work because the intermediate object on which we are setting values always behaves as a copy.\n",
      "\n",
      "For example, when doing 'df[col].method(value, inplace=True)', try using 'df.method({col: value}, inplace=True)' or df[col] = df[col].method(value) instead, to perform the operation inplace on the original object.\n",
      "\n",
      "\n",
      "  df[column].fillna(df[column].mode()[0],inplace=True)\n",
      "2025-10-04 00:11:31,149 -INFO - Dropping column :koi_teq_err1 --> 100.0% missing\n",
      "2025-10-04 00:11:31,152 -INFO - Dropping column :koi_teq_err2 --> 100.0% missing\n",
      "c:\\Users\\rk186\\OneDrive\\Desktop\\NASA_challenge_2025\\src\\handelling_missing_values.py:30: FutureWarning: A value is trying to be set on a copy of a DataFrame or Series through chained assignment using an inplace method.\n",
      "The behavior will change in pandas 3.0. This inplace method will never work because the intermediate object on which we are setting values always behaves as a copy.\n",
      "\n",
      "For example, when doing 'df[col].method(value, inplace=True)', try using 'df.method({col: value}, inplace=True)' or df[col] = df[col].method(value) instead, to perform the operation inplace on the original object.\n",
      "\n",
      "\n",
      "  df[column].fillna(df[column].mode()[0],inplace=True)\n"
     ]
    }
   ],
   "source": [
    "koi_fill_nan=Impute().fill_na().handle(koi_df)"
   ]
  },
  {
   "cell_type": "code",
   "execution_count": 8,
   "id": "be34c1d8",
   "metadata": {},
   "outputs": [
    {
     "name": "stdout",
     "output_type": "stream",
     "text": [
      "Null value present : False\n"
     ]
    }
   ],
   "source": [
    "print(\"Null value present :\",True if koi_fill_nan.isnull().values.any() else False)"
   ]
  },
  {
   "cell_type": "code",
   "execution_count": 9,
   "id": "9d8c48bf",
   "metadata": {},
   "outputs": [
    {
     "name": "stderr",
     "output_type": "stream",
     "text": [
      "2025-10-04 00:11:31,218 -INFO - Removed 0 duplicate rows\n"
     ]
    },
    {
     "name": "stdout",
     "output_type": "stream",
     "text": [
      "Duplicated columns: False\n"
     ]
    }
   ],
   "source": [
    "koi_fill_nan=Impute().handle_duplicates().handle(koi_fill_nan)\n",
    "print(\"Duplicated columns:\", True if koi_fill_nan.columns.duplicated().any() else False)"
   ]
  },
  {
   "cell_type": "code",
   "execution_count": 10,
   "id": "c0f77690",
   "metadata": {},
   "outputs": [
    {
     "data": {
      "text/html": [
       "<div>\n",
       "<style scoped>\n",
       "    .dataframe tbody tr th:only-of-type {\n",
       "        vertical-align: middle;\n",
       "    }\n",
       "\n",
       "    .dataframe tbody tr th {\n",
       "        vertical-align: top;\n",
       "    }\n",
       "\n",
       "    .dataframe thead th {\n",
       "        text-align: right;\n",
       "    }\n",
       "</style>\n",
       "<table border=\"1\" class=\"dataframe\">\n",
       "  <thead>\n",
       "    <tr style=\"text-align: right;\">\n",
       "      <th></th>\n",
       "      <th>kepid</th>\n",
       "      <th>kepoi_name</th>\n",
       "      <th>kepler_name</th>\n",
       "      <th>koi_disposition</th>\n",
       "      <th>koi_pdisposition</th>\n",
       "      <th>koi_score</th>\n",
       "      <th>koi_fpflag_nt</th>\n",
       "      <th>koi_fpflag_ss</th>\n",
       "      <th>koi_fpflag_co</th>\n",
       "      <th>koi_fpflag_ec</th>\n",
       "      <th>koi_period</th>\n",
       "      <th>koi_period_err1</th>\n",
       "      <th>koi_period_err2</th>\n",
       "      <th>koi_time0bk</th>\n",
       "      <th>koi_time0bk_err1</th>\n",
       "      <th>koi_time0bk_err2</th>\n",
       "      <th>koi_impact</th>\n",
       "      <th>koi_impact_err1</th>\n",
       "      <th>koi_impact_err2</th>\n",
       "      <th>koi_duration</th>\n",
       "      <th>koi_duration_err1</th>\n",
       "      <th>koi_duration_err2</th>\n",
       "      <th>koi_depth</th>\n",
       "      <th>koi_depth_err1</th>\n",
       "      <th>koi_depth_err2</th>\n",
       "      <th>koi_prad</th>\n",
       "      <th>koi_prad_err1</th>\n",
       "      <th>koi_prad_err2</th>\n",
       "      <th>koi_teq</th>\n",
       "      <th>koi_insol</th>\n",
       "      <th>koi_insol_err1</th>\n",
       "      <th>koi_insol_err2</th>\n",
       "      <th>koi_model_snr</th>\n",
       "      <th>koi_tce_plnt_num</th>\n",
       "      <th>koi_tce_delivname</th>\n",
       "      <th>koi_steff</th>\n",
       "      <th>koi_steff_err1</th>\n",
       "      <th>koi_steff_err2</th>\n",
       "      <th>koi_slogg</th>\n",
       "      <th>koi_slogg_err1</th>\n",
       "      <th>koi_slogg_err2</th>\n",
       "      <th>koi_srad</th>\n",
       "      <th>koi_srad_err1</th>\n",
       "      <th>koi_srad_err2</th>\n",
       "      <th>ra</th>\n",
       "      <th>dec</th>\n",
       "      <th>koi_kepmag</th>\n",
       "    </tr>\n",
       "  </thead>\n",
       "  <tbody>\n",
       "    <tr>\n",
       "      <th>8302</th>\n",
       "      <td>9640921</td>\n",
       "      <td>K07210.02</td>\n",
       "      <td>Kepler-1 b</td>\n",
       "      <td>FALSE POSITIVE</td>\n",
       "      <td>FALSE POSITIVE</td>\n",
       "      <td>0.000</td>\n",
       "      <td>0</td>\n",
       "      <td>0</td>\n",
       "      <td>1</td>\n",
       "      <td>1</td>\n",
       "      <td>2.178145</td>\n",
       "      <td>0.000013</td>\n",
       "      <td>-0.000013</td>\n",
       "      <td>132.02979</td>\n",
       "      <td>0.00584</td>\n",
       "      <td>-0.00584</td>\n",
       "      <td>0.7800</td>\n",
       "      <td>0.1750</td>\n",
       "      <td>-0.537</td>\n",
       "      <td>2.3210</td>\n",
       "      <td>0.1780</td>\n",
       "      <td>-0.1780</td>\n",
       "      <td>136.0</td>\n",
       "      <td>11.9</td>\n",
       "      <td>-11.9</td>\n",
       "      <td>1.22</td>\n",
       "      <td>0.37</td>\n",
       "      <td>-0.13</td>\n",
       "      <td>1428.0</td>\n",
       "      <td>981.63</td>\n",
       "      <td>881.06</td>\n",
       "      <td>-288.97</td>\n",
       "      <td>13.8</td>\n",
       "      <td>3.0</td>\n",
       "      <td>q1_q17_dr25_tce</td>\n",
       "      <td>6053.0</td>\n",
       "      <td>162.0</td>\n",
       "      <td>-198.0</td>\n",
       "      <td>4.494</td>\n",
       "      <td>0.052</td>\n",
       "      <td>-0.208</td>\n",
       "      <td>0.949</td>\n",
       "      <td>0.291</td>\n",
       "      <td>-0.097</td>\n",
       "      <td>287.96375</td>\n",
       "      <td>46.306911</td>\n",
       "      <td>15.395</td>\n",
       "    </tr>\n",
       "    <tr>\n",
       "      <th>1453</th>\n",
       "      <td>5080636</td>\n",
       "      <td>K01843.01</td>\n",
       "      <td>Kepler-974 b</td>\n",
       "      <td>CONFIRMED</td>\n",
       "      <td>CANDIDATE</td>\n",
       "      <td>1.000</td>\n",
       "      <td>0</td>\n",
       "      <td>0</td>\n",
       "      <td>0</td>\n",
       "      <td>0</td>\n",
       "      <td>4.194497</td>\n",
       "      <td>0.000006</td>\n",
       "      <td>-0.000006</td>\n",
       "      <td>134.13511</td>\n",
       "      <td>0.00114</td>\n",
       "      <td>-0.00114</td>\n",
       "      <td>0.8630</td>\n",
       "      <td>0.0050</td>\n",
       "      <td>-0.625</td>\n",
       "      <td>1.7807</td>\n",
       "      <td>0.0343</td>\n",
       "      <td>-0.0343</td>\n",
       "      <td>660.7</td>\n",
       "      <td>17.1</td>\n",
       "      <td>-17.1</td>\n",
       "      <td>1.57</td>\n",
       "      <td>0.09</td>\n",
       "      <td>-0.12</td>\n",
       "      <td>577.0</td>\n",
       "      <td>26.20</td>\n",
       "      <td>5.71</td>\n",
       "      <td>-5.91</td>\n",
       "      <td>45.0</td>\n",
       "      <td>1.0</td>\n",
       "      <td>q1_q17_dr25_tce</td>\n",
       "      <td>3706.0</td>\n",
       "      <td>73.0</td>\n",
       "      <td>-92.0</td>\n",
       "      <td>4.747</td>\n",
       "      <td>0.033</td>\n",
       "      <td>-0.033</td>\n",
       "      <td>0.522</td>\n",
       "      <td>0.032</td>\n",
       "      <td>-0.039</td>\n",
       "      <td>285.01309</td>\n",
       "      <td>40.220749</td>\n",
       "      <td>14.404</td>\n",
       "    </tr>\n",
       "    <tr>\n",
       "      <th>6507</th>\n",
       "      <td>5213811</td>\n",
       "      <td>K05141.01</td>\n",
       "      <td>Kepler-1 b</td>\n",
       "      <td>FALSE POSITIVE</td>\n",
       "      <td>FALSE POSITIVE</td>\n",
       "      <td>0.334</td>\n",
       "      <td>1</td>\n",
       "      <td>0</td>\n",
       "      <td>0</td>\n",
       "      <td>0</td>\n",
       "      <td>288.285213</td>\n",
       "      <td>0.006879</td>\n",
       "      <td>-0.006879</td>\n",
       "      <td>325.04190</td>\n",
       "      <td>0.01300</td>\n",
       "      <td>-0.01300</td>\n",
       "      <td>0.0503</td>\n",
       "      <td>0.4015</td>\n",
       "      <td>-0.050</td>\n",
       "      <td>5.3430</td>\n",
       "      <td>0.4730</td>\n",
       "      <td>-0.4730</td>\n",
       "      <td>378.1</td>\n",
       "      <td>35.9</td>\n",
       "      <td>-35.9</td>\n",
       "      <td>2.20</td>\n",
       "      <td>1.00</td>\n",
       "      <td>-0.30</td>\n",
       "      <td>312.0</td>\n",
       "      <td>2.25</td>\n",
       "      <td>3.00</td>\n",
       "      <td>-0.76</td>\n",
       "      <td>11.5</td>\n",
       "      <td>1.0</td>\n",
       "      <td>q1_q16_tce</td>\n",
       "      <td>6171.0</td>\n",
       "      <td>148.0</td>\n",
       "      <td>-180.0</td>\n",
       "      <td>4.337</td>\n",
       "      <td>0.113</td>\n",
       "      <td>-0.279</td>\n",
       "      <td>1.127</td>\n",
       "      <td>0.515</td>\n",
       "      <td>-0.154</td>\n",
       "      <td>298.20096</td>\n",
       "      <td>40.392319</td>\n",
       "      <td>12.369</td>\n",
       "    </tr>\n",
       "  </tbody>\n",
       "</table>\n",
       "</div>"
      ],
      "text/plain": [
       "        kepid kepoi_name   kepler_name koi_disposition koi_pdisposition  \\\n",
       "8302  9640921  K07210.02    Kepler-1 b  FALSE POSITIVE   FALSE POSITIVE   \n",
       "1453  5080636  K01843.01  Kepler-974 b       CONFIRMED        CANDIDATE   \n",
       "6507  5213811  K05141.01    Kepler-1 b  FALSE POSITIVE   FALSE POSITIVE   \n",
       "\n",
       "      koi_score  koi_fpflag_nt  koi_fpflag_ss  koi_fpflag_co  koi_fpflag_ec  \\\n",
       "8302      0.000              0              0              1              1   \n",
       "1453      1.000              0              0              0              0   \n",
       "6507      0.334              1              0              0              0   \n",
       "\n",
       "      koi_period  koi_period_err1  koi_period_err2  koi_time0bk  \\\n",
       "8302    2.178145         0.000013        -0.000013    132.02979   \n",
       "1453    4.194497         0.000006        -0.000006    134.13511   \n",
       "6507  288.285213         0.006879        -0.006879    325.04190   \n",
       "\n",
       "      koi_time0bk_err1  koi_time0bk_err2  koi_impact  koi_impact_err1  \\\n",
       "8302           0.00584          -0.00584      0.7800           0.1750   \n",
       "1453           0.00114          -0.00114      0.8630           0.0050   \n",
       "6507           0.01300          -0.01300      0.0503           0.4015   \n",
       "\n",
       "      koi_impact_err2  koi_duration  koi_duration_err1  koi_duration_err2  \\\n",
       "8302           -0.537        2.3210             0.1780            -0.1780   \n",
       "1453           -0.625        1.7807             0.0343            -0.0343   \n",
       "6507           -0.050        5.3430             0.4730            -0.4730   \n",
       "\n",
       "      koi_depth  koi_depth_err1  koi_depth_err2  koi_prad  koi_prad_err1  \\\n",
       "8302      136.0            11.9           -11.9      1.22           0.37   \n",
       "1453      660.7            17.1           -17.1      1.57           0.09   \n",
       "6507      378.1            35.9           -35.9      2.20           1.00   \n",
       "\n",
       "      koi_prad_err2  koi_teq  koi_insol  koi_insol_err1  koi_insol_err2  \\\n",
       "8302          -0.13   1428.0     981.63          881.06         -288.97   \n",
       "1453          -0.12    577.0      26.20            5.71           -5.91   \n",
       "6507          -0.30    312.0       2.25            3.00           -0.76   \n",
       "\n",
       "      koi_model_snr  koi_tce_plnt_num koi_tce_delivname  koi_steff  \\\n",
       "8302           13.8               3.0   q1_q17_dr25_tce     6053.0   \n",
       "1453           45.0               1.0   q1_q17_dr25_tce     3706.0   \n",
       "6507           11.5               1.0        q1_q16_tce     6171.0   \n",
       "\n",
       "      koi_steff_err1  koi_steff_err2  koi_slogg  koi_slogg_err1  \\\n",
       "8302           162.0          -198.0      4.494           0.052   \n",
       "1453            73.0           -92.0      4.747           0.033   \n",
       "6507           148.0          -180.0      4.337           0.113   \n",
       "\n",
       "      koi_slogg_err2  koi_srad  koi_srad_err1  koi_srad_err2         ra  \\\n",
       "8302          -0.208     0.949          0.291         -0.097  287.96375   \n",
       "1453          -0.033     0.522          0.032         -0.039  285.01309   \n",
       "6507          -0.279     1.127          0.515         -0.154  298.20096   \n",
       "\n",
       "            dec  koi_kepmag  \n",
       "8302  46.306911      15.395  \n",
       "1453  40.220749      14.404  \n",
       "6507  40.392319      12.369  "
      ]
     },
     "execution_count": 10,
     "metadata": {},
     "output_type": "execute_result"
    }
   ],
   "source": [
    "koi_fill_nan.sample(3)"
   ]
  },
  {
   "cell_type": "markdown",
   "id": "ceeff998",
   "metadata": {},
   "source": [
    "## **Preprocessing Data**"
   ]
  },
  {
   "cell_type": "code",
   "execution_count": 11,
   "id": "337a0636",
   "metadata": {},
   "outputs": [
    {
     "name": "stderr",
     "output_type": "stream",
     "text": [
      "2025-10-04 00:11:31,274 -INFO - Removing columns: ['kepid', 'kepoi_name', 'kepler_name', 'koi_teq_err1', 'koi_teq_err2', 'koi_fpflag_nt', 'koi_impact_err1', 'koi_impact_err2']\n",
      "2025-10-04 00:11:31,276 -INFO - Columns removed successfully\n"
     ]
    }
   ],
   "source": [
    "preprocess=PreprocessingFactory().get_preprocessor(\"remove_columns\",columns_to_remove=config[\"koi_data\"][\"remove_columns\"]).preprocess(koi_fill_nan)"
   ]
  },
  {
   "cell_type": "code",
   "execution_count": 12,
   "id": "b2d0d8f0",
   "metadata": {},
   "outputs": [
    {
     "name": "stderr",
     "output_type": "stream",
     "text": [
      "2025-10-04 00:11:31,290 -INFO - Mapping values in column: koi_disposition\n",
      "2025-10-04 00:11:31,291 -INFO - Values mapped successfully\n"
     ]
    }
   ],
   "source": [
    "process_target_encode=PreprocessingFactory().get_preprocessor(\"map_values\",column_name=config[\"koi_data\"][\"target_column\"],mapping_dict=config[\"koi_data\"][\"target_map_values\"]).preprocess(preprocess)"
   ]
  },
  {
   "cell_type": "code",
   "execution_count": 13,
   "id": "19e2d708",
   "metadata": {},
   "outputs": [
    {
     "name": "stderr",
     "output_type": "stream",
     "text": [
      "2025-10-04 00:11:31,305 -INFO - Mapping values in column: koi_pdisposition\n",
      "2025-10-04 00:11:31,307 -INFO - Values mapped successfully\n"
     ]
    }
   ],
   "source": [
    "process_target_encode=PreprocessingFactory().get_preprocessor(\"map_values\",column_name=config[\"koi_data\"][\"pdistribution\"],mapping_dict=config[\"koi_data\"][\"pdis_map\"]).preprocess(process_target_encode)"
   ]
  },
  {
   "cell_type": "code",
   "execution_count": 14,
   "id": "c499c9b1",
   "metadata": {},
   "outputs": [
    {
     "name": "stderr",
     "output_type": "stream",
     "text": [
      "2025-10-04 00:11:31,316 -INFO - Mapping values in column: koi_tce_delivname\n",
      "2025-10-04 00:11:31,321 -INFO - Values mapped successfully\n"
     ]
    }
   ],
   "source": [
    "process_target_encode=PreprocessingFactory().get_preprocessor(\"map_values\",column_name=config[\"koi_data\"][\"koi_tce_delivname\"],mapping_dict=config[\"koi_data\"][\"koi_tce_delivname_map\"]).preprocess(process_target_encode)"
   ]
  },
  {
   "cell_type": "code",
   "execution_count": 15,
   "id": "d1414aa7",
   "metadata": {},
   "outputs": [
    {
     "data": {
      "text/html": [
       "<div>\n",
       "<style scoped>\n",
       "    .dataframe tbody tr th:only-of-type {\n",
       "        vertical-align: middle;\n",
       "    }\n",
       "\n",
       "    .dataframe tbody tr th {\n",
       "        vertical-align: top;\n",
       "    }\n",
       "\n",
       "    .dataframe thead th {\n",
       "        text-align: right;\n",
       "    }\n",
       "</style>\n",
       "<table border=\"1\" class=\"dataframe\">\n",
       "  <thead>\n",
       "    <tr style=\"text-align: right;\">\n",
       "      <th></th>\n",
       "      <th>koi_disposition</th>\n",
       "      <th>koi_pdisposition</th>\n",
       "      <th>koi_score</th>\n",
       "      <th>koi_fpflag_ss</th>\n",
       "      <th>koi_fpflag_co</th>\n",
       "      <th>koi_fpflag_ec</th>\n",
       "      <th>koi_period</th>\n",
       "      <th>koi_period_err1</th>\n",
       "      <th>koi_period_err2</th>\n",
       "      <th>koi_time0bk</th>\n",
       "      <th>koi_time0bk_err1</th>\n",
       "      <th>koi_time0bk_err2</th>\n",
       "      <th>koi_impact</th>\n",
       "      <th>koi_duration</th>\n",
       "      <th>koi_duration_err1</th>\n",
       "      <th>koi_duration_err2</th>\n",
       "      <th>koi_depth</th>\n",
       "      <th>koi_depth_err1</th>\n",
       "      <th>koi_depth_err2</th>\n",
       "      <th>koi_prad</th>\n",
       "      <th>koi_prad_err1</th>\n",
       "      <th>koi_prad_err2</th>\n",
       "      <th>koi_teq</th>\n",
       "      <th>koi_insol</th>\n",
       "      <th>koi_insol_err1</th>\n",
       "      <th>koi_insol_err2</th>\n",
       "      <th>koi_model_snr</th>\n",
       "      <th>koi_tce_plnt_num</th>\n",
       "      <th>koi_tce_delivname</th>\n",
       "      <th>koi_steff</th>\n",
       "      <th>koi_steff_err1</th>\n",
       "      <th>koi_steff_err2</th>\n",
       "      <th>koi_slogg</th>\n",
       "      <th>koi_slogg_err1</th>\n",
       "      <th>koi_slogg_err2</th>\n",
       "      <th>koi_srad</th>\n",
       "      <th>koi_srad_err1</th>\n",
       "      <th>koi_srad_err2</th>\n",
       "      <th>ra</th>\n",
       "      <th>dec</th>\n",
       "      <th>koi_kepmag</th>\n",
       "    </tr>\n",
       "  </thead>\n",
       "  <tbody>\n",
       "    <tr>\n",
       "      <th>2254</th>\n",
       "      <td>0</td>\n",
       "      <td>0</td>\n",
       "      <td>0.000</td>\n",
       "      <td>0</td>\n",
       "      <td>1</td>\n",
       "      <td>1</td>\n",
       "      <td>5.266481</td>\n",
       "      <td>0.000032</td>\n",
       "      <td>-0.000032</td>\n",
       "      <td>131.69020</td>\n",
       "      <td>0.00425</td>\n",
       "      <td>-0.00425</td>\n",
       "      <td>0.403</td>\n",
       "      <td>1.9640</td>\n",
       "      <td>0.1770</td>\n",
       "      <td>-0.1770</td>\n",
       "      <td>97.8</td>\n",
       "      <td>7.8</td>\n",
       "      <td>-7.8</td>\n",
       "      <td>1.07</td>\n",
       "      <td>0.35</td>\n",
       "      <td>-0.12</td>\n",
       "      <td>1155.0</td>\n",
       "      <td>420.53</td>\n",
       "      <td>393.91</td>\n",
       "      <td>-131.88</td>\n",
       "      <td>16.0</td>\n",
       "      <td>1.0</td>\n",
       "      <td>0</td>\n",
       "      <td>6204.0</td>\n",
       "      <td>168.0</td>\n",
       "      <td>-206.0</td>\n",
       "      <td>4.394</td>\n",
       "      <td>0.090</td>\n",
       "      <td>-0.210</td>\n",
       "      <td>1.065</td>\n",
       "      <td>0.340</td>\n",
       "      <td>-0.121</td>\n",
       "      <td>293.96689</td>\n",
       "      <td>42.841888</td>\n",
       "      <td>13.648</td>\n",
       "    </tr>\n",
       "    <tr>\n",
       "      <th>1090</th>\n",
       "      <td>1</td>\n",
       "      <td>2</td>\n",
       "      <td>0.989</td>\n",
       "      <td>0</td>\n",
       "      <td>0</td>\n",
       "      <td>0</td>\n",
       "      <td>53.449445</td>\n",
       "      <td>0.000067</td>\n",
       "      <td>-0.000067</td>\n",
       "      <td>149.20185</td>\n",
       "      <td>0.00103</td>\n",
       "      <td>-0.00103</td>\n",
       "      <td>0.092</td>\n",
       "      <td>5.3091</td>\n",
       "      <td>0.0439</td>\n",
       "      <td>-0.0439</td>\n",
       "      <td>3437.0</td>\n",
       "      <td>33.2</td>\n",
       "      <td>-33.2</td>\n",
       "      <td>5.82</td>\n",
       "      <td>1.49</td>\n",
       "      <td>-0.50</td>\n",
       "      <td>486.0</td>\n",
       "      <td>13.23</td>\n",
       "      <td>10.07</td>\n",
       "      <td>-3.61</td>\n",
       "      <td>119.5</td>\n",
       "      <td>1.0</td>\n",
       "      <td>0</td>\n",
       "      <td>5919.0</td>\n",
       "      <td>162.0</td>\n",
       "      <td>-203.0</td>\n",
       "      <td>4.485</td>\n",
       "      <td>0.044</td>\n",
       "      <td>-0.187</td>\n",
       "      <td>1.000</td>\n",
       "      <td>0.257</td>\n",
       "      <td>-0.086</td>\n",
       "      <td>291.08380</td>\n",
       "      <td>40.355251</td>\n",
       "      <td>15.287</td>\n",
       "    </tr>\n",
       "    <tr>\n",
       "      <th>3111</th>\n",
       "      <td>1</td>\n",
       "      <td>2</td>\n",
       "      <td>1.000</td>\n",
       "      <td>0</td>\n",
       "      <td>0</td>\n",
       "      <td>0</td>\n",
       "      <td>25.695815</td>\n",
       "      <td>0.000058</td>\n",
       "      <td>-0.000058</td>\n",
       "      <td>188.78889</td>\n",
       "      <td>0.00175</td>\n",
       "      <td>-0.00175</td>\n",
       "      <td>0.680</td>\n",
       "      <td>4.0251</td>\n",
       "      <td>0.0791</td>\n",
       "      <td>-0.0791</td>\n",
       "      <td>1130.8</td>\n",
       "      <td>29.0</td>\n",
       "      <td>-29.0</td>\n",
       "      <td>1.70</td>\n",
       "      <td>0.21</td>\n",
       "      <td>-0.33</td>\n",
       "      <td>314.0</td>\n",
       "      <td>2.30</td>\n",
       "      <td>1.17</td>\n",
       "      <td>-1.10</td>\n",
       "      <td>45.1</td>\n",
       "      <td>1.0</td>\n",
       "      <td>0</td>\n",
       "      <td>3787.0</td>\n",
       "      <td>163.0</td>\n",
       "      <td>-204.0</td>\n",
       "      <td>4.775</td>\n",
       "      <td>0.096</td>\n",
       "      <td>-0.056</td>\n",
       "      <td>0.477</td>\n",
       "      <td>0.061</td>\n",
       "      <td>-0.092</td>\n",
       "      <td>294.71194</td>\n",
       "      <td>39.073761</td>\n",
       "      <td>14.885</td>\n",
       "    </tr>\n",
       "  </tbody>\n",
       "</table>\n",
       "</div>"
      ],
      "text/plain": [
       "      koi_disposition  koi_pdisposition  koi_score  koi_fpflag_ss  \\\n",
       "2254                0                 0      0.000              0   \n",
       "1090                1                 2      0.989              0   \n",
       "3111                1                 2      1.000              0   \n",
       "\n",
       "      koi_fpflag_co  koi_fpflag_ec  koi_period  koi_period_err1  \\\n",
       "2254              1              1    5.266481         0.000032   \n",
       "1090              0              0   53.449445         0.000067   \n",
       "3111              0              0   25.695815         0.000058   \n",
       "\n",
       "      koi_period_err2  koi_time0bk  koi_time0bk_err1  koi_time0bk_err2  \\\n",
       "2254        -0.000032    131.69020           0.00425          -0.00425   \n",
       "1090        -0.000067    149.20185           0.00103          -0.00103   \n",
       "3111        -0.000058    188.78889           0.00175          -0.00175   \n",
       "\n",
       "      koi_impact  koi_duration  koi_duration_err1  koi_duration_err2  \\\n",
       "2254       0.403        1.9640             0.1770            -0.1770   \n",
       "1090       0.092        5.3091             0.0439            -0.0439   \n",
       "3111       0.680        4.0251             0.0791            -0.0791   \n",
       "\n",
       "      koi_depth  koi_depth_err1  koi_depth_err2  koi_prad  koi_prad_err1  \\\n",
       "2254       97.8             7.8            -7.8      1.07           0.35   \n",
       "1090     3437.0            33.2           -33.2      5.82           1.49   \n",
       "3111     1130.8            29.0           -29.0      1.70           0.21   \n",
       "\n",
       "      koi_prad_err2  koi_teq  koi_insol  koi_insol_err1  koi_insol_err2  \\\n",
       "2254          -0.12   1155.0     420.53          393.91         -131.88   \n",
       "1090          -0.50    486.0      13.23           10.07           -3.61   \n",
       "3111          -0.33    314.0       2.30            1.17           -1.10   \n",
       "\n",
       "      koi_model_snr  koi_tce_plnt_num  koi_tce_delivname  koi_steff  \\\n",
       "2254           16.0               1.0                  0     6204.0   \n",
       "1090          119.5               1.0                  0     5919.0   \n",
       "3111           45.1               1.0                  0     3787.0   \n",
       "\n",
       "      koi_steff_err1  koi_steff_err2  koi_slogg  koi_slogg_err1  \\\n",
       "2254           168.0          -206.0      4.394           0.090   \n",
       "1090           162.0          -203.0      4.485           0.044   \n",
       "3111           163.0          -204.0      4.775           0.096   \n",
       "\n",
       "      koi_slogg_err2  koi_srad  koi_srad_err1  koi_srad_err2         ra  \\\n",
       "2254          -0.210     1.065          0.340         -0.121  293.96689   \n",
       "1090          -0.187     1.000          0.257         -0.086  291.08380   \n",
       "3111          -0.056     0.477          0.061         -0.092  294.71194   \n",
       "\n",
       "            dec  koi_kepmag  \n",
       "2254  42.841888      13.648  \n",
       "1090  40.355251      15.287  \n",
       "3111  39.073761      14.885  "
      ]
     },
     "execution_count": 15,
     "metadata": {},
     "output_type": "execute_result"
    }
   ],
   "source": [
    "process_target_encode.sample(3)"
   ]
  },
  {
   "cell_type": "code",
   "execution_count": 16,
   "id": "f68041b9",
   "metadata": {},
   "outputs": [
    {
     "data": {
      "text/plain": [
       "Index(['koi_disposition', 'koi_pdisposition', 'koi_score', 'koi_fpflag_ss',\n",
       "       'koi_fpflag_co', 'koi_fpflag_ec', 'koi_period', 'koi_period_err1',\n",
       "       'koi_period_err2', 'koi_time0bk', 'koi_time0bk_err1',\n",
       "       'koi_time0bk_err2', 'koi_impact', 'koi_duration', 'koi_duration_err1',\n",
       "       'koi_duration_err2', 'koi_depth', 'koi_depth_err1', 'koi_depth_err2',\n",
       "       'koi_prad', 'koi_prad_err1', 'koi_prad_err2', 'koi_teq', 'koi_insol',\n",
       "       'koi_insol_err1', 'koi_insol_err2', 'koi_model_snr', 'koi_tce_plnt_num',\n",
       "       'koi_tce_delivname', 'koi_steff', 'koi_steff_err1', 'koi_steff_err2',\n",
       "       'koi_slogg', 'koi_slogg_err1', 'koi_slogg_err2', 'koi_srad',\n",
       "       'koi_srad_err1', 'koi_srad_err2', 'ra', 'dec', 'koi_kepmag'],\n",
       "      dtype='object')"
      ]
     },
     "execution_count": 16,
     "metadata": {},
     "output_type": "execute_result"
    }
   ],
   "source": [
    "process_target_encode.columns#koi_impact_err1,koi_impact_err1"
   ]
  },
  {
   "cell_type": "markdown",
   "id": "40431db7",
   "metadata": {},
   "source": [
    "## **Splitting data to train model**"
   ]
  },
  {
   "cell_type": "code",
   "execution_count": 17,
   "id": "721e3e87",
   "metadata": {},
   "outputs": [
    {
     "name": "stderr",
     "output_type": "stream",
     "text": [
      "2025-10-04 00:11:31,383 -INFO - Splitting data..\n",
      "2025-10-04 00:11:31,383 -INFO - Performing simple Train-Test-Split.\n",
      "2025-10-04 00:11:31,393 -INFO - Train-Test-Split completed.\n"
     ]
    }
   ],
   "source": [
    "x_train,x_test,y_train,y_test=DataSpliter(SimpleTrainTestSplit(test_size=config[\"data_splitter\"][\"test_size\"],random_state=config[\"data_splitter\"][\"random_state\"])).split(process_target_encode,config[\"koi_data\"][\"target_column\"])"
   ]
  },
  {
   "cell_type": "code",
   "execution_count": 18,
   "id": "a2840234",
   "metadata": {},
   "outputs": [
    {
     "name": "stdout",
     "output_type": "stream",
     "text": [
      "Shape of x_train: (7651, 40), y_train: (7651,)\n",
      "Shape of x_test: (1913, 40), y_test: (1913,)\n"
     ]
    }
   ],
   "source": [
    "print(f\"Shape of x_train: {x_train.shape}, y_train: {y_train.shape}\")\n",
    "print(f\"Shape of x_test: {x_test.shape}, y_test: {y_test.shape}\")"
   ]
  },
  {
   "cell_type": "code",
   "execution_count": 19,
   "id": "0331311c",
   "metadata": {},
   "outputs": [
    {
     "name": "stderr",
     "output_type": "stream",
     "text": [
      "2025-10-04 00:11:31,413 -INFO - Building LSTM model\n",
      "2025/10/04 00:11:31 INFO mlflow.tracking.fluent: Autologging successfully enabled for keras.\n",
      "2025/10/04 00:11:31 INFO mlflow.tracking.fluent: Autologging successfully enabled for lightgbm.\n",
      "2025/10/04 00:11:31 INFO mlflow.tracking.fluent: Autologging successfully enabled for sklearn.\n",
      "2025/10/04 00:11:31 INFO mlflow.tracking.fluent: Autologging successfully enabled for tensorflow.\n",
      "2025/10/04 00:11:31 INFO mlflow.tracking.fluent: Autologging successfully enabled for xgboost.\n",
      "c:\\Users\\rk186\\OneDrive\\Desktop\\NASA_challenge_2025\\nasa_challenge\\Lib\\site-packages\\keras\\src\\layers\\rnn\\rnn.py:199: UserWarning: Do not pass an `input_shape`/`input_dim` argument to a layer. When using Sequential models, prefer using an `Input(shape)` object as the first layer in the model instead.\n",
      "  super().__init__(**kwargs)\n"
     ]
    },
    {
     "data": {
      "text/html": [
       "<pre style=\"white-space:pre;overflow-x:auto;line-height:normal;font-family:Menlo,'DejaVu Sans Mono',consolas,'Courier New',monospace\"></pre>\n"
      ],
      "text/plain": []
     },
     "metadata": {},
     "output_type": "display_data"
    },
    {
     "name": "stdout",
     "output_type": "stream",
     "text": [
      "Epoch 1/50\n",
      "\u001b[1m239/240\u001b[0m \u001b[32m━━━━━━━━━━━━━━━━━━━\u001b[0m\u001b[37m━\u001b[0m \u001b[1m0s\u001b[0m 28ms/step - accuracy: 0.6054 - loss: 0.8668"
     ]
    },
    {
     "name": "stderr",
     "output_type": "stream",
     "text": [
      "2025-10-04 00:11:45,484 -WARNING - You are saving your model as an HDF5 file via `model.save()` or `keras.saving.save_model(model)`. This file format is considered legacy. We recommend using instead the native Keras format, e.g. `model.save('my_model.keras')` or `keras.saving.save_model(model, 'my_model.keras')`. \n"
     ]
    },
    {
     "name": "stdout",
     "output_type": "stream",
     "text": [
      "\u001b[1m240/240\u001b[0m \u001b[32m━━━━━━━━━━━━━━━━━━━━\u001b[0m\u001b[37m\u001b[0m \u001b[1m11s\u001b[0m 36ms/step - accuracy: 0.7050 - loss: 0.6584 - val_accuracy: 0.8343 - val_loss: 0.3223\n",
      "Epoch 2/50\n",
      "\u001b[1m240/240\u001b[0m \u001b[32m━━━━━━━━━━━━━━━━━━━━\u001b[0m\u001b[37m\u001b[0m \u001b[1m0s\u001b[0m 35ms/step - accuracy: 0.8475 - loss: 0.2896"
     ]
    },
    {
     "name": "stderr",
     "output_type": "stream",
     "text": [
      "2025-10-04 00:11:55,195 -WARNING - You are saving your model as an HDF5 file via `model.save()` or `keras.saving.save_model(model)`. This file format is considered legacy. We recommend using instead the native Keras format, e.g. `model.save('my_model.keras')` or `keras.saving.save_model(model, 'my_model.keras')`. \n"
     ]
    },
    {
     "name": "stdout",
     "output_type": "stream",
     "text": [
      "\u001b[1m240/240\u001b[0m \u001b[32m━━━━━━━━━━━━━━━━━━━━\u001b[0m\u001b[37m\u001b[0m \u001b[1m10s\u001b[0m 40ms/step - accuracy: 0.8689 - loss: 0.2714 - val_accuracy: 0.9028 - val_loss: 0.2252\n",
      "Epoch 3/50\n",
      "\u001b[1m239/240\u001b[0m \u001b[32m━━━━━━━━━━━━━━━━━━━\u001b[0m\u001b[37m━\u001b[0m \u001b[1m0s\u001b[0m 34ms/step - accuracy: 0.9134 - loss: 0.2119"
     ]
    },
    {
     "name": "stderr",
     "output_type": "stream",
     "text": [
      "2025-10-04 00:12:04,755 -WARNING - You are saving your model as an HDF5 file via `model.save()` or `keras.saving.save_model(model)`. This file format is considered legacy. We recommend using instead the native Keras format, e.g. `model.save('my_model.keras')` or `keras.saving.save_model(model, 'my_model.keras')`. \n"
     ]
    },
    {
     "name": "stdout",
     "output_type": "stream",
     "text": [
      "\u001b[1m240/240\u001b[0m \u001b[32m━━━━━━━━━━━━━━━━━━━━\u001b[0m\u001b[37m\u001b[0m \u001b[1m10s\u001b[0m 40ms/step - accuracy: 0.9192 - loss: 0.2015 - val_accuracy: 0.9137 - val_loss: 0.2091\n",
      "Epoch 4/50\n",
      "\u001b[1m240/240\u001b[0m \u001b[32m━━━━━━━━━━━━━━━━━━━━\u001b[0m\u001b[37m\u001b[0m \u001b[1m10s\u001b[0m 40ms/step - accuracy: 0.9269 - loss: 0.1896 - val_accuracy: 0.9143 - val_loss: 0.2380\n",
      "Epoch 5/50\n",
      "\u001b[1m239/240\u001b[0m \u001b[32m━━━━━━━━━━━━━━━━━━━\u001b[0m\u001b[37m━\u001b[0m \u001b[1m0s\u001b[0m 34ms/step - accuracy: 0.9185 - loss: 0.2228"
     ]
    },
    {
     "name": "stderr",
     "output_type": "stream",
     "text": [
      "2025-10-04 00:12:24,029 -WARNING - You are saving your model as an HDF5 file via `model.save()` or `keras.saving.save_model(model)`. This file format is considered legacy. We recommend using instead the native Keras format, e.g. `model.save('my_model.keras')` or `keras.saving.save_model(model, 'my_model.keras')`. \n"
     ]
    },
    {
     "name": "stdout",
     "output_type": "stream",
     "text": [
      "\u001b[1m240/240\u001b[0m \u001b[32m━━━━━━━━━━━━━━━━━━━━\u001b[0m\u001b[37m\u001b[0m \u001b[1m10s\u001b[0m 40ms/step - accuracy: 0.9221 - loss: 0.2018 - val_accuracy: 0.9137 - val_loss: 0.2060\n",
      "Epoch 6/50\n",
      "\u001b[1m240/240\u001b[0m \u001b[32m━━━━━━━━━━━━━━━━━━━━\u001b[0m\u001b[37m\u001b[0m \u001b[1m10s\u001b[0m 40ms/step - accuracy: 0.9302 - loss: 0.1736 - val_accuracy: 0.9169 - val_loss: 0.2093\n",
      "Epoch 7/50\n",
      "\u001b[1m240/240\u001b[0m \u001b[32m━━━━━━━━━━━━━━━━━━━━\u001b[0m\u001b[37m\u001b[0m \u001b[1m10s\u001b[0m 41ms/step - accuracy: 0.9299 - loss: 0.1768 - val_accuracy: 0.9028 - val_loss: 0.2333\n",
      "Epoch 8/50\n",
      "\u001b[1m239/240\u001b[0m \u001b[32m━━━━━━━━━━━━━━━━━━━\u001b[0m\u001b[37m━\u001b[0m \u001b[1m0s\u001b[0m 40ms/step - accuracy: 0.9269 - loss: 0.1809"
     ]
    },
    {
     "name": "stderr",
     "output_type": "stream",
     "text": [
      "2025-10-04 00:12:54,749 -WARNING - You are saving your model as an HDF5 file via `model.save()` or `keras.saving.save_model(model)`. This file format is considered legacy. We recommend using instead the native Keras format, e.g. `model.save('my_model.keras')` or `keras.saving.save_model(model, 'my_model.keras')`. \n"
     ]
    },
    {
     "name": "stdout",
     "output_type": "stream",
     "text": [
      "\u001b[1m240/240\u001b[0m \u001b[32m━━━━━━━━━━━━━━━━━━━━\u001b[0m\u001b[37m\u001b[0m \u001b[1m11s\u001b[0m 46ms/step - accuracy: 0.9298 - loss: 0.1749 - val_accuracy: 0.9127 - val_loss: 0.2009\n",
      "Epoch 9/50\n",
      "\u001b[1m239/240\u001b[0m \u001b[32m━━━━━━━━━━━━━━━━━━━\u001b[0m\u001b[37m━\u001b[0m \u001b[1m0s\u001b[0m 34ms/step - accuracy: 0.9324 - loss: 0.1728"
     ]
    },
    {
     "name": "stderr",
     "output_type": "stream",
     "text": [
      "2025-10-04 00:13:04,402 -WARNING - You are saving your model as an HDF5 file via `model.save()` or `keras.saving.save_model(model)`. This file format is considered legacy. We recommend using instead the native Keras format, e.g. `model.save('my_model.keras')` or `keras.saving.save_model(model, 'my_model.keras')`. \n"
     ]
    },
    {
     "name": "stdout",
     "output_type": "stream",
     "text": [
      "\u001b[1m240/240\u001b[0m \u001b[32m━━━━━━━━━━━━━━━━━━━━\u001b[0m\u001b[37m\u001b[0m \u001b[1m10s\u001b[0m 40ms/step - accuracy: 0.9337 - loss: 0.1697 - val_accuracy: 0.9247 - val_loss: 0.1909\n",
      "Epoch 10/50\n",
      "\u001b[1m240/240\u001b[0m \u001b[32m━━━━━━━━━━━━━━━━━━━━\u001b[0m\u001b[37m\u001b[0m \u001b[1m9s\u001b[0m 38ms/step - accuracy: 0.9349 - loss: 0.1750 - val_accuracy: 0.9174 - val_loss: 0.1979\n",
      "Epoch 11/50\n",
      "\u001b[1m240/240\u001b[0m \u001b[32m━━━━━━━━━━━━━━━━━━━━\u001b[0m\u001b[37m\u001b[0m \u001b[1m9s\u001b[0m 38ms/step - accuracy: 0.9307 - loss: 0.1836 - val_accuracy: 0.9153 - val_loss: 0.2025\n",
      "Epoch 12/50\n",
      "\u001b[1m240/240\u001b[0m \u001b[32m━━━━━━━━━━━━━━━━━━━━\u001b[0m\u001b[37m\u001b[0m \u001b[1m9s\u001b[0m 38ms/step - accuracy: 0.9354 - loss: 0.1673 - val_accuracy: 0.9200 - val_loss: 0.1955\n",
      "Epoch 13/50\n",
      "\u001b[1m240/240\u001b[0m \u001b[32m━━━━━━━━━━━━━━━━━━━━\u001b[0m\u001b[37m\u001b[0m \u001b[1m9s\u001b[0m 38ms/step - accuracy: 0.9340 - loss: 0.1695 - val_accuracy: 0.9232 - val_loss: 0.1957\n",
      "Epoch 14/50\n",
      "\u001b[1m240/240\u001b[0m \u001b[32m━━━━━━━━━━━━━━━━━━━━\u001b[0m\u001b[37m\u001b[0m \u001b[1m9s\u001b[0m 39ms/step - accuracy: 0.9327 - loss: 0.1679 - val_accuracy: 0.9185 - val_loss: 0.1938\n",
      "\u001b[1m1/1\u001b[0m \u001b[32m━━━━━━━━━━━━━━━━━━━━\u001b[0m\u001b[37m\u001b[0m \u001b[1m0s\u001b[0m 352ms/step\n"
     ]
    },
    {
     "name": "stderr",
     "output_type": "stream",
     "text": [
      "2025/10/04 00:13:50 WARNING mlflow.models.model: `artifact_path` is deprecated. Please use `name` instead.\n",
      "2025/10/04 00:14:01 WARNING mlflow.utils.environment: Encountered an unexpected error while inferring pip requirements (model URI: C:\\Users\\rk186\\AppData\\Local\\Temp\\tmpxw6p1u5d\\model, flavor: tensorflow). Fall back to return ['tensorflow==2.20.0', 'cloudpickle==3.1.1']. Set logging level to DEBUG to see the full traceback. \n",
      "2025-10-04 00:14:01,999 -INFO - LSTM model training completed\n"
     ]
    }
   ],
   "source": [
    "koi_model=ModelFactory().get_model(\"lstm_model\").build_model(x_train,x_test,y_train,y_test)"
   ]
  },
  {
   "cell_type": "code",
   "execution_count": 20,
   "id": "6d12aa6a",
   "metadata": {},
   "outputs": [
    {
     "name": "stderr",
     "output_type": "stream",
     "text": [
      "2025-10-04 00:14:02,013 -INFO - Model evaluation started for deep learning (LSTM)\n"
     ]
    },
    {
     "name": "stdout",
     "output_type": "stream",
     "text": [
      "\u001b[1m60/60\u001b[0m \u001b[32m━━━━━━━━━━━━━━━━━━━━\u001b[0m\u001b[37m\u001b[0m \u001b[1m1s\u001b[0m 12ms/step - accuracy: 0.9247 - loss: 0.1909\n"
     ]
    },
    {
     "name": "stderr",
     "output_type": "stream",
     "text": [
      "2025-10-04 00:14:02,799 -INFO - Deep learning evaluation completed. Accuracy: 0.9247255325317383\n"
     ]
    },
    {
     "data": {
      "text/plain": [
       "0.9247255325317383"
      ]
     },
     "execution_count": 20,
     "metadata": {},
     "output_type": "execute_result"
    }
   ],
   "source": [
    "ModelEvaluationFactory().get_evaluator(\"dl\").evaluate(koi_model,\"test\",x_test,y_test)\n"
   ]
  },
  {
   "cell_type": "code",
   "execution_count": 27,
   "id": "2d32722f",
   "metadata": {},
   "outputs": [
    {
     "name": "stdout",
     "output_type": "stream",
     "text": [
      "\u001b[1m60/60\u001b[0m \u001b[32m━━━━━━━━━━━━━━━━━━━━\u001b[0m\u001b[37m\u001b[0m \u001b[1m1s\u001b[0m 16ms/step\n",
      "              precision    recall  f1-score   support\n",
      "\n",
      "           0       1.00      1.00      1.00       939\n",
      "           1       0.86      0.90      0.88       569\n",
      "           2       0.85      0.79      0.82       405\n",
      "\n",
      "    accuracy                           0.92      1913\n",
      "   macro avg       0.90      0.90      0.90      1913\n",
      "weighted avg       0.92      0.92      0.92      1913\n",
      "\n"
     ]
    }
   ],
   "source": [
    "#ModelEvaluationFactory().get_evaluator(\"accuracy\").evaluate(koi_model,\"train\",x_train,y_train)\n",
    "import numpy as np\n",
    "from sklearn.metrics import classification_report\n",
    "x_test=np.array(x_test)\n",
    "x_test = x_test.reshape((x_test.shape[0], x_test.shape[1], 1))\n",
    "y_pred = np.argmax(koi_model.predict(x_test), axis=1)\n",
    "\n",
    "cr=classification_report(y_test,y_pred)\n",
    "print(cr)"
   ]
  },
  {
   "cell_type": "code",
   "execution_count": 22,
   "id": "9a60e10d",
   "metadata": {},
   "outputs": [],
   "source": [
    "# ConfusionAndReportVisualizer().get_confusion_matrix_visualizer().plot(y_test,koi_model.predict(x_test),[0,1,2])"
   ]
  },
  {
   "cell_type": "code",
   "execution_count": null,
   "id": "469311e6",
   "metadata": {},
   "outputs": [],
   "source": []
  }
 ],
 "metadata": {
  "kernelspec": {
   "display_name": "nasa_challenge",
   "language": "python",
   "name": "python3"
  },
  "language_info": {
   "codemirror_mode": {
    "name": "ipython",
    "version": 3
   },
   "file_extension": ".py",
   "mimetype": "text/x-python",
   "name": "python",
   "nbconvert_exporter": "python",
   "pygments_lexer": "ipython3",
   "version": "3.12.4"
  }
 },
 "nbformat": 4,
 "nbformat_minor": 5
}
